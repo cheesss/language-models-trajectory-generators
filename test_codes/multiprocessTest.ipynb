{
 "cells": [
  {
   "cell_type": "code",
   "execution_count": 24,
   "metadata": {},
   "outputs": [
    {
     "name": "stderr",
     "output_type": "stream",
     "text": [
      "[INFO/Process-22] Worker process is running!\n",
      "[INFO/Process-22] Worker process is running!\n",
      "[INFO/Process-22] Worker process is running!\n",
      "[ERROR/Process-22] ERROR level log.\n",
      "[ERROR/Process-22] ERROR level log.\n",
      "[ERROR/Process-22] ERROR level log.\n",
      "[INFO/Process-22] process shutting down\n",
      "[INFO/Process-22] process shutting down\n",
      "[INFO/Process-22] process shutting down\n",
      "[INFO/Process-22] process exiting with exitcode 0\n",
      "[INFO/Process-22] process exiting with exitcode 0\n",
      "[INFO/Process-22] process exiting with exitcode 0\n"
     ]
    }
   ],
   "source": [
    "import multiprocessing\n",
    "import logging\n",
    "\n",
    "def worker_process():\n",
    "    logger = multiprocessing.log_to_stderr()\n",
    "    logger.setLevel(logging.INFO)\n",
    "    logger.info(\"Worker process is running!\")\n",
    "    logger.error(\"ERROR level log.\")  \n",
    "if __name__ == \"__main__\":\n",
    "    p = multiprocessing.Process(target=worker_process)\n",
    "    p.start()\n",
    "    p.join()\n",
    "\n"
   ]
  },
  {
   "cell_type": "code",
   "execution_count": 1,
   "metadata": {},
   "outputs": [
    {
     "name": "stdout",
     "output_type": "stream",
     "text": [
      "main line\n",
      "module name: __main__\n",
      "parent process: 5160\n",
      "process id: 29301\n",
      "function f\n"
     ]
    },
    {
     "name": "stdout",
     "output_type": "stream",
     "text": [
      "module name: __main__\n",
      "parent process: 29301\n",
      "process id: 29316\n",
      "hello bob\n"
     ]
    }
   ],
   "source": [
    "from multiprocessing import Process\n",
    "import os\n",
    "\n",
    "def info(title):\n",
    "    print(title)\n",
    "    print('module name:', __name__)\n",
    "    print('parent process:', os.getppid())\n",
    "    print('process id:', os.getpid())\n",
    "\n",
    "def f(name):\n",
    "    info('function f')\n",
    "    print('hello', name)\n",
    "\n",
    "if __name__ == '__main__':\n",
    "    info('main line')\n",
    "    p = Process(target=f, args=('bob',))\n",
    "    p.start()"
   ]
  },
  {
   "cell_type": "code",
   "execution_count": 1,
   "metadata": {},
   "outputs": [
    {
     "name": "stdout",
     "output_type": "stream",
     "text": [
      "1\n"
     ]
    }
   ],
   "source": [
    "print(len([[-0.114, 0.669, 0.052, -1.455]]))"
   ]
  }
 ],
 "metadata": {
  "kernelspec": {
   "display_name": "Python 3",
   "language": "python",
   "name": "python3"
  },
  "language_info": {
   "codemirror_mode": {
    "name": "ipython",
    "version": 3
   },
   "file_extension": ".py",
   "mimetype": "text/x-python",
   "name": "python",
   "nbconvert_exporter": "python",
   "pygments_lexer": "ipython3",
   "version": "3.10.16"
  }
 },
 "nbformat": 4,
 "nbformat_minor": 2
}
